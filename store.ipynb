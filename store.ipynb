{
  "nbformat": 4,
  "nbformat_minor": 0,
  "metadata": {
    "colab": {
      "provenance": [],
      "authorship_tag": "ABX9TyNdFrxmvS0IURb0XTxWv2Xk",
      "include_colab_link": true
    },
    "kernelspec": {
      "name": "python3",
      "display_name": "Python 3"
    },
    "language_info": {
      "name": "python"
    }
  },
  "cells": [
    {
      "cell_type": "markdown",
      "metadata": {
        "id": "view-in-github",
        "colab_type": "text"
      },
      "source": [
        "<a href=\"https://colab.research.google.com/github/vaijesh0431/election-result/blob/main/store.ipynb\" target=\"_parent\"><img src=\"https://colab.research.google.com/assets/colab-badge.svg\" alt=\"Open In Colab\"/></a>"
      ]
    },
    {
      "cell_type": "code",
      "execution_count": null,
      "metadata": {
        "colab": {
          "base_uri": "https://localhost:8080/"
        },
        "id": "vWz_PUZMs49v",
        "outputId": "2ccf74f6-ed07-4775-80ad-6e897698948c"
      },
      "outputs": [
        {
          "output_type": "stream",
          "name": "stdout",
          "text": [
            "10 Rice (kg) sold.\n",
            "25 Dal (kg) sold.\n",
            "5 Oil (liter) sold.\n",
            "\n",
            "Bill\n",
            "Rice (kg) x 5 = 340.00\n",
            "Oil (liter) x 2 = 376.00\n",
            "Spices (pkt) x 3 = 90.00\n",
            "Total: 806.00\n",
            "\n",
            "All items are sufficiently stocked.\n"
          ]
        }
      ],
      "source": [
        "import pandas as pd\n",
        "\n",
        "# Sample inventory data for a Kirana store\n",
        "data = {\n",
        "    \"Item\": [\"Rice (kg)\", \"Atta (kg)\", \"Dal (kg)\", \"Sugar (kg)\", \"Oil (liter)\", \"Spices (pkt)\"],\n",
        "    \"Quantity\": [100, 80, 50, 60, 30, 50],\n",
        "    \"Price\": [68, 48, 128, 45, 188, 30]\n",
        "}\n",
        "\n",
        "# Creating DataFrame\n",
        "inventory = pd.DataFrame(data)\n",
        "\n",
        "def update_inventory(item, quantity):\n",
        "    if item in inventory[\"Item\"].values:\n",
        "        index = inventory[inventory[\"Item\"] == item].index[0]\n",
        "        if inventory.loc[index, \"Quantity\"] >= quantity:\n",
        "            inventory.loc[index, \"Quantity\"] -= quantity\n",
        "            print(f\"{quantity} {item} sold.\")\n",
        "        else:\n",
        "            print(f\"Not enough {item} in stock.\")\n",
        "    else:\n",
        "        print(f\"{item} not found in inventory.\")\n",
        "\n",
        "def generate_bill(items, quantities):\n",
        "    total_bill = 0\n",
        "    print(\"\\nBill\")\n",
        "    for item, quantity in zip(items, quantities):\n",
        "        if item in inventory[\"Item\"].values:\n",
        "            index = inventory[inventory[\"Item\"] == item].index[0]\n",
        "            price = inventory.loc[index, \"Price\"]\n",
        "            cost = price * quantity\n",
        "            total_bill += cost\n",
        "            print(f\"{item} x {quantity} = {cost:.2f}\")\n",
        "        else:\n",
        "            print(f\"{item} not found in inventory.\")\n",
        "    print(f\"Total: {total_bill:.2f}\")\n",
        "\n",
        "# Example usage\n",
        "update_inventory(\"Rice (kg)\", 10)\n",
        "update_inventory(\"Dal (kg)\", 25)\n",
        "update_inventory(\"Oil (liter)\", 5)\n",
        "\n",
        "generate_bill([\"Rice (kg)\", \"Oil (liter)\", \"Spices (pkt)\"], [5, 2, 3])\n",
        "\n",
        "# Check for low stock (e.g., below 20 units)\n",
        "low_stock_items = inventory[inventory[\"Quantity\"] < 20][\"Item\"].tolist()\n",
        "if low_stock_items:\n",
        "    print(\"\\nLow stock alert:\")\n",
        "    for item in low_stock_items:\n",
        "        print(f\"{item} is running low.\")\n",
        "else:\n",
        "    print(\"\\nAll items are sufficiently stocked.\")\n"
      ]
    },
    {
      "cell_type": "code",
      "source": [],
      "metadata": {
        "id": "Sc6X3-fZZFTN"
      },
      "execution_count": null,
      "outputs": []
    }
  ]
}